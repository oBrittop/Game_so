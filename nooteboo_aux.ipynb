{
  "cells": [
    {
      "cell_type": "markdown",
      "id": "97993bf4",
      "metadata": {
        "id": "97993bf4"
      },
      "source": [
        "\n",
        "# Aula 3 - Funções, Módulos e Orientação a Objetos em Python\n",
        "\n",
        "Nesta aula, vamos explorar o conceito de funções, módulos e a introdução à Programação Orientada a Objetos (POO) em Python.\n",
        "Serão abordados os seguintes tópicos:\n",
        "\n",
        "- Definindo funções e escopo.\n",
        "- Argumentos e parâmetros.\n",
        "- Importação de bibliotecas e módulos.\n",
        "- Programação Orientada a Objetos.\n",
        "\n",
        "---\n",
        "## Funções em Python\n",
        "Funções são blocos de código reutilizáveis que executam uma tarefa específica. Elas podem aceitar entradas (parâmetros), executar operações, e retornar um valor de saída.\n"
      ]
    },
    {
      "cell_type": "markdown",
      "id": "d28ae327",
      "metadata": {
        "id": "d28ae327"
      },
      "source": [
        "\n",
        "## Definindo Funções e Escopo\n",
        "\n",
        "Em Python, funções são definidas usando a palavra-chave `def` seguida do nome da função e parênteses.\n",
        "\n",
        "### Sintaxe:\n",
        "```python\n",
        "def nome_da_funcao(parâmetros):\n",
        "    # bloco de código\n",
        "    return valor_opcional\n",
        "```\n",
        "\n",
        "### Exemplo básico de função:\n"
      ]
    },
    {
      "cell_type": "code",
      "execution_count": null,
      "id": "68ebc59c",
      "metadata": {
        "id": "68ebc59c"
      },
      "outputs": [],
      "source": [
        "# Exemplo de uma função simples\n",
        "def saudacao(nome):\n",
        "    return f\"Olá, {nome}!\"\n",
        "\n",
        "# Chamando a função\n",
        "print(saudacao(\"Maria\"))"
      ]
    },
    {
      "cell_type": "markdown",
      "id": "327c416f",
      "metadata": {
        "id": "327c416f"
      },
      "source": [
        "\n",
        "### Escopo de Variáveis\n",
        "\n",
        "O escopo de uma variável refere-se à área do programa onde essa variável é visível. As variáveis podem ter **escopo local** (dentro de uma função) ou **escopo global** (fora de funções).\n",
        "\n",
        "#### Exemplo de escopo local e global:\n"
      ]
    },
    {
      "cell_type": "code",
      "execution_count": null,
      "id": "e7451b5b",
      "metadata": {
        "id": "e7451b5b"
      },
      "outputs": [],
      "source": [
        "# Exemplo de escopo\n",
        "x = 10  # Escopo global\n",
        "\n",
        "def minha_funcao():\n",
        "    x = 5  # Escopo local\n",
        "    print(f\"Valor local de x: {x}\")\n",
        "\n",
        "minha_funcao()\n",
        "print(f\"Valor global de x: {x}\")"
      ]
    },
    {
      "cell_type": "markdown",
      "id": "0a80bf88",
      "metadata": {
        "id": "0a80bf88"
      },
      "source": [
        "\n",
        "## Argumentos e Parâmetros\n",
        "\n",
        "- **Parâmetros** são variáveis listadas na definição da função.\n",
        "- **Argumentos** são os valores que você passa para a função quando a chama.\n",
        "\n",
        "Python permite diferentes formas de passar argumentos para uma função, como argumentos posicionais e nomeados.\n",
        "\n",
        "### Exemplos de funções com argumentos:\n"
      ]
    },
    {
      "cell_type": "code",
      "execution_count": null,
      "id": "4bd82ea2",
      "metadata": {
        "id": "4bd82ea2"
      },
      "outputs": [
        {
          "name": "stdout",
          "output_type": "stream",
          "text": [
            "5\n",
            "15\n"
          ]
        }
      ],
      "source": [
        "# Função com múltiplos parâmetros\n",
        "def soma(a, b):\n",
        "    return a + b\n",
        "\n",
        "# Chamando a função com argumentos posicionais\n",
        "print(soma(2, 3))\n",
        "\n",
        "# Mesma definição de a = 5 e b = 10\n",
        "a , b= 5 , 10 \n",
        "\n",
        "# Chamando a função com argumentos nomeados\n",
        "print(soma(a, b))"
      ]
    },
    {
      "cell_type": "markdown",
      "id": "325ead26",
      "metadata": {
        "id": "325ead26"
      },
      "source": [
        "\n",
        "### Valores Padrão para Parâmetros\n",
        "\n",
        "Você pode definir valores padrão para parâmetros na definição da função. Se o argumento não for passado, o valor padrão será usado.\n",
        "\n",
        "#### Exemplo:\n"
      ]
    },
    {
      "cell_type": "code",
      "execution_count": null,
      "id": "30cbe0f0",
      "metadata": {
        "id": "30cbe0f0"
      },
      "outputs": [],
      "source": [
        "# Função com valor padrão\n",
        "def apresentar(nome, saudacao=\"Olá\"):\n",
        "    print(f\"{saudacao}, {nome}!\")\n",
        "\n",
        "# Chamando a função com e sem o argumento opcional\n",
        "apresentar(\"João\")\n",
        "\n",
        "#Logo se o argumento é diferente do padrão \"Default\" ele será sobreposto\n",
        "apresentar(\"Maria\", saudacao=\"Bom dia\")"
      ]
    },
    {
      "cell_type": "markdown",
      "id": "b15f6566",
      "metadata": {
        "id": "b15f6566"
      },
      "source": [
        "\n",
        "## Importação de Bibliotecas e Módulos\n",
        "\n",
        "Python tem uma vasta coleção de bibliotecas e módulos que podem ser importados para adicionar funcionalidades ao seu código.\n",
        "\n",
        "### Como importar módulos:\n",
        "\n",
        "- `import nome_modulo`: Importa todo o módulo.\n",
        "- `from nome_modulo import funcao`: Importa uma função específica do módulo.\n",
        "- `import nome_modulo as apelido`: Importa o módulo com um apelido.\n",
        "\n",
        "#### Exemplo de importação de módulo:\n"
      ]
    },
    {
      "cell_type": "code",
      "execution_count": null,
      "id": "af8f3cfb",
      "metadata": {
        "id": "af8f3cfb"
      },
      "outputs": [],
      "source": [
        "# Importando o módulo math\n",
        "import math\n",
        "\n",
        "# Usando a função sqrt (raiz quadrada)\n",
        "print(\"Raiz quadrada de 16:\", math.sqrt(16))\n",
        "\n",
        "# Importando apenas a função pi\n",
        "from math import pi\n",
        "print(\"O valor de pi:\", pi)"
      ]
    },
    {
      "cell_type": "markdown",
      "id": "67fa8d27",
      "metadata": {
        "id": "67fa8d27"
      },
      "source": [
        "\n",
        "## Criando Seu Próprio Módulo\n",
        "\n",
        "Você pode criar seus próprios módulos em Python, simplesmente salvando funções em um arquivo `.py`.\n",
        "\n",
        "Por exemplo, se você salvar a seguinte função em um arquivo chamado `meu_modulo.py`:\n",
        "```python\n",
        "# Arquivo: meu_modulo.py\n",
        "def saudacao(nome):\n",
        "    return f\"Olá, {nome}!\"\n",
        "```\n",
        "\n",
        "Você pode importar e usar essa função em outro script Python:\n",
        "```python\n",
        "from meu_modulo import saudacao\n",
        "print(saudacao(\"Ana\"))\n",
        "```\n",
        "\n",
        "---\n",
        "\n",
        "## Programação Orientada a Objetos (POO)\n",
        "\n",
        "A Programação Orientada a Objetos é um paradigma de programação que utiliza \"objetos\" – instâncias de classes – para organizar o código de forma mais modular, reutilizável e legível.\n",
        "\n",
        "### Conceitos Principais:\n",
        "- **Classe**: Um \"molde\" ou estrutura para criar objetos.\n",
        "- **Objeto**: Uma instância de uma classe.\n",
        "- **Atributos**: Variáveis que pertencem a um objeto.\n",
        "- **Métodos**: Funções que pertencem a uma classe e podem ser executadas nos objetos.\n",
        "\n",
        "### Definindo uma Classe:\n",
        "```python\n",
        "class MinhaClasse:\n",
        "    def __init__(self, atributo1, atributo2):\n",
        "        self.atributo1 = atributo1\n",
        "        self.atributo2 = atributo2\n",
        "\n",
        "    def metodo_exemplo(self):\n",
        "        return f\"Valores: {self.atributo1}, {self.atributo2}\"\n",
        "```\n",
        "\n",
        "### Exemplo Prático:\n"
      ]
    },
    {
      "cell_type": "code",
      "execution_count": null,
      "id": "a33fffb6",
      "metadata": {
        "id": "a33fffb6"
      },
      "outputs": [],
      "source": [
        "# Definindo uma classe simples\n",
        "class Pessoa:\n",
        "    def __init__(self, nome, idade):\n",
        "        self.nome = nome\n",
        "        self.idade = idade\n",
        "\n",
        "    def apresentar(self):\n",
        "        return f\"Olá, meu nome é {self.nome} e eu tenho {self.idade} anos.\"\n",
        "\n",
        "# Criando um objeto (instância da classe)\n",
        "pessoa1 = Pessoa(\"João\", 30)\n",
        "\n",
        "# Chamando o método da classe\n",
        "print(pessoa1.apresentar())"
      ]
    },
    {
      "cell_type": "code",
      "execution_count": null,
      "id": "3cef5d3e",
      "metadata": {},
      "outputs": [],
      "source": [
        "class Aluno:\n",
        "    def __init__(self, nome, idade, matricula):\n",
        "        self.nome = nome  # Atributo\n",
        "        self.idade = idade\n",
        "        self.matricula = matricula\n",
        "    \n",
        "    def exibir_dados(self):  # Método\n",
        "        print(f\"Aluno: {self.nome}, Idade: {self.idade}, Matrícula: {self.matricula}\")"
      ]
    },
    {
      "cell_type": "markdown",
      "id": "fa71619a",
      "metadata": {},
      "source": [
        "__init__: É o construtor, chamado quando criamos um objeto.\n",
        "self: Refere-se ao objeto atual (é como dizer \"este aluno\").\n",
        "Atributos: nome, idade, matricula são propriedades do aluno.\n",
        "Método: exibir_dados mostra as informações."
      ]
    },
    {
      "cell_type": "markdown",
      "id": "8d247b7a",
      "metadata": {},
      "source": [
        "Testando a classe:"
      ]
    },
    {
      "cell_type": "code",
      "execution_count": null,
      "id": "7afb8ea5",
      "metadata": {},
      "outputs": [],
      "source": [
        "aluno1 = Aluno(\"Ana\", 20, \"A001\")\n",
        "aluno1.exibir_dados()  # Saída: Aluno: Ana, Idade: 20, Matrícula: A001"
      ]
    },
    {
      "cell_type": "markdown",
      "id": "34b706b0",
      "metadata": {},
      "source": [
        "Adicionando Atributos de Uma Classe em Outra\n",
        "É possível que uma classe tenha um atributo que seja outro objeto (uma relação entre classes). Por exemplo, vamos criar uma classe Plano (como plano de treino) e associá-la a um Aluno."
      ]
    },
    {
      "cell_type": "code",
      "execution_count": null,
      "id": "967f6b8c",
      "metadata": {},
      "outputs": [],
      "source": [
        "class Plano:\n",
        "    def __init__(self, tipo, duracao_meses):\n",
        "        self.tipo = tipo  # Ex.: \"Musculação\", \"Funcional\"\n",
        "        self.duracao_meses = duracao_meses\n",
        "    \n",
        "    def exibir_plano(self):\n",
        "        print(f\"Plano: {self.tipo}, Duração: {self.duracao_meses} meses\")\n",
        "\n",
        "class Aluno:\n",
        "    def __init__(self, nome, idade, matricula, plano=None):\n",
        "        self.nome = nome\n",
        "        self.idade = idade\n",
        "        self.matricula = matricula\n",
        "        self.plano = plano  # Atributo que é um objeto da classe Plano\n",
        "    \n",
        "    def exibir_dados(self):\n",
        "        print(f\"Aluno: {self.nome}, Idade: {self.idade}, Matrícula: {self.matricula}\")\n",
        "        if self.plano:\n",
        "            print(\"Detalhes do plano:\")\n",
        "            self.plano.exibir_plano()\n",
        "        else:\n",
        "            print(\"Sem plano associado.\")        "
      ]
    },
    {
      "cell_type": "markdown",
      "id": "53e6557d",
      "metadata": {},
      "source": [
        "Aqui, o atributo plano de Aluno é um objeto da classe Plano. Isso é uma composição, onde uma classe contém outra."
      ]
    },
    {
      "cell_type": "markdown",
      "id": "88cdf252",
      "metadata": {},
      "source": [
        "4. Usando Lista como Banco de Dados\n",
        "Vamos simular um \"banco de dados\" usando uma lista para armazenar vários objetos Aluno. Criaremos uma classe Academia para gerenciar os alunos."
      ]
    },
    {
      "cell_type": "code",
      "execution_count": null,
      "id": "ff9879d5",
      "metadata": {},
      "outputs": [],
      "source": [
        "class Academia:\n",
        "    def __init__(self):\n",
        "        self.alunos = []  # Lista que simula o banco de dados\n",
        "    \n",
        "    def adicionar_aluno(self, aluno):\n",
        "        self.alunos.append(aluno)\n",
        "        print(f\"Aluno {aluno.nome} adicionado com sucesso!\")\n",
        "    \n",
        "    def listar_alunos(self):\n",
        "        if not self.alunos:\n",
        "            print(\"Nenhum aluno cadastrado.\")\n",
        "        else:\n",
        "            print(\"Lista de alunos:\")\n",
        "            for aluno in self.alunos:\n",
        "                aluno.exibir_dados()\n",
        "                print(\"-\" * 30)\n",
        "    \n",
        "    def buscar_aluno(self, matricula):\n",
        "        for aluno in self.alunos:\n",
        "            if aluno.matricula == matricula:\n",
        "                print(\"Aluno encontrado:\")\n",
        "                aluno.exibir_dados()\n",
        "                return\n",
        "        print(\"Aluno não encontrado.\")"
      ]
    },
    {
      "cell_type": "markdown",
      "id": "cd0dbc67",
      "metadata": {
        "id": "cd0dbc67"
      },
      "source": [
        "\n",
        "### Herança\n",
        "\n",
        "A herança é um mecanismo que permite que uma classe \"herde\" atributos e métodos de outra classe. Isso permite reutilização de código.\n",
        "\n",
        "#### Exemplo de Herança:\n"
      ]
    },
    {
      "cell_type": "code",
      "execution_count": null,
      "id": "24896cad",
      "metadata": {
        "id": "24896cad"
      },
      "outputs": [],
      "source": [
        "# Exemplo de herança em Python\n",
        "class Funcionario(Pessoa):\n",
        "    def __init__(self, nome, idade, cargo):\n",
        "        super().__init__(nome, idade)\n",
        "        self.cargo = cargo\n",
        "\n",
        "    def apresentar(self):\n",
        "        return f\"Olá, meu nome é {self.nome}, tenho {self.idade} anos e sou {self.cargo}.\"\n",
        "\n",
        "# Criando um objeto da subclasse\n",
        "funcionario1 = Funcionario(\"Ana\", 28, \"Engenheira\")\n",
        "\n",
        "# Chamando o método da subclasse\n",
        "print(funcionario1.apresentar())"
      ]
    }
  ],
  "metadata": {
    "colab": {
      "provenance": []
    },
    "kernelspec": {
      "display_name": "base",
      "language": "python",
      "name": "python3"
    },
    "language_info": {
      "codemirror_mode": {
        "name": "ipython",
        "version": 3
      },
      "file_extension": ".py",
      "mimetype": "text/x-python",
      "name": "python",
      "nbconvert_exporter": "python",
      "pygments_lexer": "ipython3",
      "version": "3.12.4"
    }
  },
  "nbformat": 4,
  "nbformat_minor": 5
}
